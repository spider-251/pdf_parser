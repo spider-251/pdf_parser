{
 "cells": [
  {
   "cell_type": "code",
   "execution_count": 2,
   "metadata": {},
   "outputs": [],
   "source": [
    "import cv2\n",
    "import pytesseract as tess\n",
    "import numpy as np\n",
    "from pdf2image import convert_from_path\n",
    "from PIL import Image\n",
    "import re\n",
    "import pandas as pd\n",
    "# help(tess)\n",
    "tess.pytesseract.tesseract_cmd  = r'C:\\Users\\Pfactorial00110\\anaconda3\\Library\\bin\\tesseract'\n",
    "#poppler_path = r'C:\\Users\\Pfactorial00110\\Downloads\\poppler-0.68.0_x86\\poppler-0.68.0\\bin'"
   ]
  },
  {
   "cell_type": "code",
   "execution_count": 3,
   "metadata": {},
   "outputs": [],
   "source": [
    "def ocr_pdf(pdf):\n",
    "\n",
    "    images = convert_from_path(pdf)\n",
    "    img = cv2.cvtColor(np.array(images[0]), cv2.COLOR_RGB2BGR)\n",
    "    content=tess.image_to_string(img)\n",
    "    return content"
   ]
  },
  {
   "cell_type": "code",
   "execution_count": 4,
   "metadata": {},
   "outputs": [],
   "source": [
    "images = convert_from_path('02162022.pdf')\n",
    "im_list = [im1.crop((600,50,im1.size[0]-50,im1.size[1]-50)) for im1 in images]\n",
    "#initial testing with saving as separate pdf might remove in future\n",
    "# im_list[0].save(r'turned_pdf.pdf', save_all=True, append_images=im_list[1:])"
   ]
  },
  {
   "cell_type": "code",
   "execution_count": 46,
   "metadata": {},
   "outputs": [],
   "source": [
    "full_text = {}\n",
    "for i,ims in enumerate(im_list):\n",
    "    con = tess.image_to_string(ims)\n",
    "    full_text[i] = con"
   ]
  },
  {
   "cell_type": "code",
   "execution_count": 6,
   "metadata": {},
   "outputs": [
    {
     "data": {
      "text/plain": [
       "'ITEM CATEGORIES SOLD***Category Units Gross***CLASSIC THIN CRUST 1 13.29***COLD SUBS 1 7A9***CRUSTS 58 1,023.87***CRUSTS (modifier) 4 0.00***DRINKS 9 8.37***EXTRAS 8 84.92***HOT HOAGIES 3 25.97***MISCELLANEOUS 1 0.65***MISCELLANEOUS (modifier) 4 0.00***MODIFIERS 2 1.30***MODIFIERS (modifier) 115 0.00***PIZZA BY THE SLICE 103 697.67***SALADS 2 10.98***'"
      ]
     },
     "execution_count": 6,
     "metadata": {},
     "output_type": "execute_result"
    }
   ],
   "source": [
    "item_cat_sold = re.findall(r\"ITEM.+\",full_text[6].replace('\\n','***'))[0].split('ORDER ENTRY')[0]\n",
    "item_cat_sold"
   ]
  },
  {
   "cell_type": "markdown",
   "metadata": {},
   "source": [
    "# page 7"
   ]
  },
  {
   "cell_type": "code",
   "execution_count": 7,
   "metadata": {},
   "outputs": [],
   "source": [
    "def item_category_sold():\n",
    "    item_cat_sold = re.findall(r\"ITEM.+\",full_text[6].replace('\\n','***'))[0].split('ORDER ENTRY')[0]\n",
    "    item_cat_sold_1 = item_cat_sold.split('***')\n",
    "    item_cat_sold_1 = [i.replace(',','') for i in item_cat_sold_1]\n",
    "\n",
    "    colnames = item_cat_sold_1[1].split(' ')\n",
    "    cat_sold = pd.DataFrame()\n",
    "    for i in range(len(item_cat_sold_1)):\n",
    "        try:\n",
    "            category = re.findall('.+?\\d',item_cat_sold_1[i])[0][:-2]\n",
    "            units = re.findall('\\d+',item_cat_sold_1[i])[0]\n",
    "            gross = re.findall('\\d+[.]\\d+',item_cat_sold_1[i])[0]\n",
    "            # print(category,units,gross)\n",
    "            cat_sold = cat_sold.append(pd.Series([category,units,gross]).T, ignore_index=True)\n",
    "        except:\n",
    "            pass\n",
    "    cat_sold.columns = colnames\n",
    "    return cat_sold\n"
   ]
  },
  {
   "cell_type": "code",
   "execution_count": 8,
   "metadata": {},
   "outputs": [
    {
     "data": {
      "text/html": [
       "<div>\n",
       "<style scoped>\n",
       "    .dataframe tbody tr th:only-of-type {\n",
       "        vertical-align: middle;\n",
       "    }\n",
       "\n",
       "    .dataframe tbody tr th {\n",
       "        vertical-align: top;\n",
       "    }\n",
       "\n",
       "    .dataframe thead th {\n",
       "        text-align: right;\n",
       "    }\n",
       "</style>\n",
       "<table border=\"1\" class=\"dataframe\">\n",
       "  <thead>\n",
       "    <tr style=\"text-align: right;\">\n",
       "      <th></th>\n",
       "      <th>Category</th>\n",
       "      <th>Units</th>\n",
       "      <th>Gross</th>\n",
       "    </tr>\n",
       "  </thead>\n",
       "  <tbody>\n",
       "    <tr>\n",
       "      <th>0</th>\n",
       "      <td>CLASSIC THIN CRUST</td>\n",
       "      <td>1</td>\n",
       "      <td>13.29</td>\n",
       "    </tr>\n",
       "    <tr>\n",
       "      <th>1</th>\n",
       "      <td>CRUSTS</td>\n",
       "      <td>58</td>\n",
       "      <td>1023.87</td>\n",
       "    </tr>\n",
       "    <tr>\n",
       "      <th>2</th>\n",
       "      <td>CRUSTS (modifier)</td>\n",
       "      <td>4</td>\n",
       "      <td>0.00</td>\n",
       "    </tr>\n",
       "    <tr>\n",
       "      <th>3</th>\n",
       "      <td>DRINKS</td>\n",
       "      <td>9</td>\n",
       "      <td>8.37</td>\n",
       "    </tr>\n",
       "    <tr>\n",
       "      <th>4</th>\n",
       "      <td>EXTRAS</td>\n",
       "      <td>8</td>\n",
       "      <td>84.92</td>\n",
       "    </tr>\n",
       "    <tr>\n",
       "      <th>5</th>\n",
       "      <td>HOT HOAGIES</td>\n",
       "      <td>3</td>\n",
       "      <td>25.97</td>\n",
       "    </tr>\n",
       "    <tr>\n",
       "      <th>6</th>\n",
       "      <td>MISCELLANEOUS</td>\n",
       "      <td>1</td>\n",
       "      <td>0.65</td>\n",
       "    </tr>\n",
       "    <tr>\n",
       "      <th>7</th>\n",
       "      <td>MISCELLANEOUS (modifier)</td>\n",
       "      <td>4</td>\n",
       "      <td>0.00</td>\n",
       "    </tr>\n",
       "    <tr>\n",
       "      <th>8</th>\n",
       "      <td>MODIFIERS</td>\n",
       "      <td>2</td>\n",
       "      <td>1.30</td>\n",
       "    </tr>\n",
       "    <tr>\n",
       "      <th>9</th>\n",
       "      <td>MODIFIERS (modifier)</td>\n",
       "      <td>115</td>\n",
       "      <td>0.00</td>\n",
       "    </tr>\n",
       "    <tr>\n",
       "      <th>10</th>\n",
       "      <td>PIZZA BY THE SLICE</td>\n",
       "      <td>103</td>\n",
       "      <td>697.67</td>\n",
       "    </tr>\n",
       "    <tr>\n",
       "      <th>11</th>\n",
       "      <td>SALADS</td>\n",
       "      <td>2</td>\n",
       "      <td>10.98</td>\n",
       "    </tr>\n",
       "  </tbody>\n",
       "</table>\n",
       "</div>"
      ],
      "text/plain": [
       "                    Category Units    Gross\n",
       "0         CLASSIC THIN CRUST     1    13.29\n",
       "1                     CRUSTS    58  1023.87\n",
       "2          CRUSTS (modifier)     4     0.00\n",
       "3                     DRINKS     9     8.37\n",
       "4                     EXTRAS     8    84.92\n",
       "5                HOT HOAGIES     3    25.97\n",
       "6              MISCELLANEOUS     1     0.65\n",
       "7   MISCELLANEOUS (modifier)     4     0.00\n",
       "8                  MODIFIERS     2     1.30\n",
       "9       MODIFIERS (modifier)   115     0.00\n",
       "10        PIZZA BY THE SLICE   103   697.67\n",
       "11                    SALADS     2    10.98"
      ]
     },
     "execution_count": 8,
     "metadata": {},
     "output_type": "execute_result"
    }
   ],
   "source": [
    "cat_sold = item_category_sold()\n",
    "cat_sold"
   ]
  },
  {
   "cell_type": "markdown",
   "metadata": {},
   "source": [
    "# page 5"
   ]
  },
  {
   "cell_type": "code",
   "execution_count": 43,
   "metadata": {},
   "outputs": [],
   "source": [
    "def sales_by_employee():\n",
    "    emp_sales = re.findall(r\"SALES BY EMPLOYEE.+\",full_text[4].replace('\\n','***'))[0].split('SALES BY ORDER TYPE')[0]\n",
    "    emp_sales_1 = emp_sales.split('***')\n",
    "    emp_sales_1 = [i.replace(',','') for i in emp_sales_1]\n",
    "\n",
    "    # colnames = emp_sales_1[1].split(' ')\n",
    "    sales_employee = pd.DataFrame()\n",
    "    for i in range(len(emp_sales_1)):\n",
    "        try:\n",
    "            ename = re.findall('.+?\\d',emp_sales_1[i])[0][:-2]\n",
    "            count = re.findall('\\d+',emp_sales_1[i])[0]\n",
    "            gross = re.findall('\\d+[.]\\d+',emp_sales_1[i])[-2]\n",
    "            net = re.findall('\\d+[.]\\d+',emp_sales_1[i])[-1]\n",
    "            # print(ename,gross,net)\n",
    "            sales_employee = sales_employee.append(pd.Series([ename,count,gross,net]).T, ignore_index=True)\n",
    "        except:\n",
    "            pass\n",
    "    sales_employee.columns = ['ename','count','gross','net']\n",
    "    return sales_employee\n"
   ]
  },
  {
   "cell_type": "code",
   "execution_count": 44,
   "metadata": {},
   "outputs": [
    {
     "data": {
      "text/html": [
       "<div>\n",
       "<style scoped>\n",
       "    .dataframe tbody tr th:only-of-type {\n",
       "        vertical-align: middle;\n",
       "    }\n",
       "\n",
       "    .dataframe tbody tr th {\n",
       "        vertical-align: top;\n",
       "    }\n",
       "\n",
       "    .dataframe thead th {\n",
       "        text-align: right;\n",
       "    }\n",
       "</style>\n",
       "<table border=\"1\" class=\"dataframe\">\n",
       "  <thead>\n",
       "    <tr style=\"text-align: right;\">\n",
       "      <th></th>\n",
       "      <th>ename</th>\n",
       "      <th>count</th>\n",
       "      <th>gross</th>\n",
       "      <th>net</th>\n",
       "    </tr>\n",
       "  </thead>\n",
       "  <tbody>\n",
       "    <tr>\n",
       "      <th>0</th>\n",
       "      <td>BOIES NATE</td>\n",
       "      <td>6</td>\n",
       "      <td>164.78</td>\n",
       "      <td>164.78</td>\n",
       "    </tr>\n",
       "    <tr>\n",
       "      <th>1</th>\n",
       "      <td>BOTHUN ANTHONY</td>\n",
       "      <td>6</td>\n",
       "      <td>83.12</td>\n",
       "      <td>82.18</td>\n",
       "    </tr>\n",
       "    <tr>\n",
       "      <th>2</th>\n",
       "      <td>CARNEY JACK</td>\n",
       "      <td>14</td>\n",
       "      <td>306.85</td>\n",
       "      <td>295.84</td>\n",
       "    </tr>\n",
       "    <tr>\n",
       "      <th>3</th>\n",
       "      <td>EASTLUND ANTHONY</td>\n",
       "      <td>78</td>\n",
       "      <td>669.86</td>\n",
       "      <td>669.86</td>\n",
       "    </tr>\n",
       "    <tr>\n",
       "      <th>4</th>\n",
       "      <td>FLAXMAN MARK</td>\n",
       "      <td>2</td>\n",
       "      <td>23.36</td>\n",
       "      <td>23.36</td>\n",
       "    </tr>\n",
       "    <tr>\n",
       "      <th>5</th>\n",
       "      <td>JENSEN IAN</td>\n",
       "      <td>10</td>\n",
       "      <td>231.83</td>\n",
       "      <td>216.68</td>\n",
       "    </tr>\n",
       "    <tr>\n",
       "      <th>6</th>\n",
       "      <td>Total</td>\n",
       "      <td>116</td>\n",
       "      <td>1479.80</td>\n",
       "      <td>1452.70</td>\n",
       "    </tr>\n",
       "  </tbody>\n",
       "</table>\n",
       "</div>"
      ],
      "text/plain": [
       "              ename count    gross      net\n",
       "0        BOIES NATE     6   164.78   164.78\n",
       "1    BOTHUN ANTHONY     6    83.12    82.18\n",
       "2       CARNEY JACK    14   306.85   295.84\n",
       "3  EASTLUND ANTHONY    78   669.86   669.86\n",
       "4      FLAXMAN MARK     2    23.36    23.36\n",
       "5        JENSEN IAN    10   231.83   216.68\n",
       "6             Total   116  1479.80  1452.70"
      ]
     },
     "execution_count": 44,
     "metadata": {},
     "output_type": "execute_result"
    }
   ],
   "source": [
    "sales_employee = sales_by_employee()\n",
    "sales_employee"
   ]
  },
  {
   "cell_type": "code",
   "execution_count": 11,
   "metadata": {},
   "outputs": [
    {
     "data": {
      "text/plain": [
       "['SALES SUMMARY',\n",
       " 'Gross Item Sales 1,874.51',\n",
       " 'Delivery Charges 17 55.00',\n",
       " 'Total Gross Sales 1,929.51',\n",
       " 'Coupons',\n",
       " 'Non-Vouchered 7 25.07',\n",
       " 'Customer Credits 1 7.99',\n",
       " 'Discounts 1 1.20',\n",
       " '34.26',\n",
       " 'NET SALES $1,895.25',\n",
       " '']"
      ]
     },
     "execution_count": 11,
     "metadata": {},
     "output_type": "execute_result"
    }
   ],
   "source": [
    "sales_summ = re.findall(r\"SALES SUMMARY.+\",full_text[0].replace('\\n','***'))[0].split('TENDER SUMMARY')[0]\n",
    "sales_summ_1 = sales_summ.split('***')\n",
    "sales_summ_1"
   ]
  },
  {
   "cell_type": "markdown",
   "metadata": {},
   "source": [
    "# page 1"
   ]
  },
  {
   "cell_type": "code",
   "execution_count": 12,
   "metadata": {},
   "outputs": [],
   "source": [
    "def sales_summary():\n",
    "    sales_summ = re.findall(r\"SALES SUMMARY.+\",full_text[0].replace('\\n','***'))[0].split('TENDER SUMMARY')[0]\n",
    "    sales_summ_1 = sales_summ.split('***')\n",
    "    sales_summ_1 = [i.replace(',','') for i in sales_summ_1]\n",
    "    # colnames = sales_summ_1[1].split(' ')\n",
    "    summary_sales = pd.DataFrame()\n",
    "    for i in range(len(sales_summ_1)):\n",
    "        try:\n",
    "            type_main = re.findall('.+?\\d',sales_summ_1[i])[0][:-2]\n",
    "            try:\n",
    "                count = re.findall('\\d+\\s',sales_summ_1[i])[0]\n",
    "            except:\n",
    "                count =  'NULL'\n",
    "            net = re.findall('\\d+[.]\\d+',sales_summ_1[i])[0]\n",
    "            # print(ename,gross,net)\n",
    "            summary_sales = summary_sales.append(pd.Series([type_main,count,net]).T, ignore_index=True)\n",
    "        except:\n",
    "            pass\n",
    "    summary_sales.columns = ['type_main','count','net']\n",
    "    return summary_sales\n"
   ]
  },
  {
   "cell_type": "code",
   "execution_count": 13,
   "metadata": {},
   "outputs": [
    {
     "data": {
      "text/html": [
       "<div>\n",
       "<style scoped>\n",
       "    .dataframe tbody tr th:only-of-type {\n",
       "        vertical-align: middle;\n",
       "    }\n",
       "\n",
       "    .dataframe tbody tr th {\n",
       "        vertical-align: top;\n",
       "    }\n",
       "\n",
       "    .dataframe thead th {\n",
       "        text-align: right;\n",
       "    }\n",
       "</style>\n",
       "<table border=\"1\" class=\"dataframe\">\n",
       "  <thead>\n",
       "    <tr style=\"text-align: right;\">\n",
       "      <th></th>\n",
       "      <th>type_main</th>\n",
       "      <th>count</th>\n",
       "      <th>net</th>\n",
       "    </tr>\n",
       "  </thead>\n",
       "  <tbody>\n",
       "    <tr>\n",
       "      <th>0</th>\n",
       "      <td>Gross Item Sales</td>\n",
       "      <td>NULL</td>\n",
       "      <td>1874.51</td>\n",
       "    </tr>\n",
       "    <tr>\n",
       "      <th>1</th>\n",
       "      <td>Delivery Charges</td>\n",
       "      <td>17</td>\n",
       "      <td>55.00</td>\n",
       "    </tr>\n",
       "    <tr>\n",
       "      <th>2</th>\n",
       "      <td>Total Gross Sales</td>\n",
       "      <td>NULL</td>\n",
       "      <td>1929.51</td>\n",
       "    </tr>\n",
       "    <tr>\n",
       "      <th>3</th>\n",
       "      <td>Non-Vouchered</td>\n",
       "      <td>7</td>\n",
       "      <td>25.07</td>\n",
       "    </tr>\n",
       "    <tr>\n",
       "      <th>4</th>\n",
       "      <td>Customer Credits</td>\n",
       "      <td>1</td>\n",
       "      <td>7.99</td>\n",
       "    </tr>\n",
       "    <tr>\n",
       "      <th>5</th>\n",
       "      <td>Discounts</td>\n",
       "      <td>1</td>\n",
       "      <td>1.20</td>\n",
       "    </tr>\n",
       "    <tr>\n",
       "      <th>6</th>\n",
       "      <td></td>\n",
       "      <td>NULL</td>\n",
       "      <td>34.26</td>\n",
       "    </tr>\n",
       "    <tr>\n",
       "      <th>7</th>\n",
       "      <td>NET SALES</td>\n",
       "      <td>NULL</td>\n",
       "      <td>1895.25</td>\n",
       "    </tr>\n",
       "  </tbody>\n",
       "</table>\n",
       "</div>"
      ],
      "text/plain": [
       "           type_main count      net\n",
       "0   Gross Item Sales  NULL  1874.51\n",
       "1   Delivery Charges   17     55.00\n",
       "2  Total Gross Sales  NULL  1929.51\n",
       "3      Non-Vouchered    7     25.07\n",
       "4   Customer Credits    1      7.99\n",
       "5          Discounts    1      1.20\n",
       "6                     NULL    34.26\n",
       "7         NET SALES   NULL  1895.25"
      ]
     },
     "execution_count": 13,
     "metadata": {},
     "output_type": "execute_result"
    }
   ],
   "source": [
    "summary_sales = sales_summary()\n",
    "summary_sales"
   ]
  },
  {
   "cell_type": "code",
   "execution_count": 14,
   "metadata": {},
   "outputs": [
    {
     "data": {
      "text/plain": [
       "'Category Units Gross'"
      ]
     },
     "execution_count": 14,
     "metadata": {},
     "output_type": "execute_result"
    }
   ],
   "source": [
    "item_cat_sold_1 = item_cat_sold.split('***')\n",
    "item_cat_sold_1[1]"
   ]
  },
  {
   "cell_type": "code",
   "execution_count": 15,
   "metadata": {},
   "outputs": [
    {
     "data": {
      "text/plain": [
       "['Category', 'Units', 'Gross']"
      ]
     },
     "execution_count": 15,
     "metadata": {},
     "output_type": "execute_result"
    }
   ],
   "source": [
    "colnames = item_cat_sold_1[1].split(' ')\n",
    "colnames"
   ]
  },
  {
   "cell_type": "code",
   "execution_count": 16,
   "metadata": {},
   "outputs": [
    {
     "data": {
      "text/plain": [
       "'CLASSIC THIN CRUST'"
      ]
     },
     "execution_count": 16,
     "metadata": {},
     "output_type": "execute_result"
    }
   ],
   "source": [
    "category = re.findall('.+?\\d',item_cat_sold_1[2])[0][:-2]\n",
    "category"
   ]
  },
  {
   "cell_type": "code",
   "execution_count": 17,
   "metadata": {},
   "outputs": [
    {
     "data": {
      "text/plain": [
       "'103'"
      ]
     },
     "execution_count": 17,
     "metadata": {},
     "output_type": "execute_result"
    }
   ],
   "source": [
    "units = re.findall('\\d+',item_cat_sold_1[-3])[0]\n",
    "units"
   ]
  },
  {
   "cell_type": "code",
   "execution_count": 18,
   "metadata": {},
   "outputs": [
    {
     "data": {
      "text/plain": [
       "'8.37'"
      ]
     },
     "execution_count": 18,
     "metadata": {},
     "output_type": "execute_result"
    }
   ],
   "source": [
    "gross = re.findall('\\d+[.]\\d+',item_cat_sold_1[6])[0]\n",
    "gross"
   ]
  },
  {
   "cell_type": "markdown",
   "metadata": {},
   "source": [
    "# page 11"
   ]
  },
  {
   "cell_type": "code",
   "execution_count": 31,
   "metadata": {},
   "outputs": [],
   "source": [
    "def sales_by_remote_source():\n",
    "    remote_sales = re.findall(r\"SALES BY REMOTE.+\",full_text[10].replace('\\n','***'))[0].split('HOUSE ACCOUNT ACTIVITY')[0]\n",
    "    remote_sales_1 = remote_sales.split('***')\n",
    "    remote_sales_1 = [i.replace(',','') for i in remote_sales_1]\n",
    "    # colnames = sales_summ_1[1].split(' ')\n",
    "    names = pd.DataFrame()\n",
    "    for i in range(len(remote_sales_1)):\n",
    "        try:\n",
    "            type_main = re.findall('.+?\\d',remote_sales_1[i])[0][:-2]\n",
    "            try:\n",
    "                count = re.findall('\\d+\\s',remote_sales_1[i])[0]\n",
    "            except:\n",
    "                count =  'NULL'\n",
    "            Gross = re.findall('\\d+[.]\\d+',remote_sales_1[i])[0]\n",
    "            Net = re.findall('\\d+[.]\\d+',remote_sales_1[i])[-1]\n",
    "            # print(ename,gross,net)\n",
    "            names = names.append(pd.Series([type_main,count,Gross,Net]).T, ignore_index=True)\n",
    "        except:\n",
    "            pass\n",
    "    names.columns = ['type_main','count','Gross','Net']\n",
    "    print(remote_sales)\n",
    "    return names\n",
    "    print(remote_sales)"
   ]
  },
  {
   "cell_type": "code",
   "execution_count": 32,
   "metadata": {},
   "outputs": [
    {
     "name": "stdout",
     "output_type": "stream",
     "text": [
      "SALES BY REMOTE ORDER SOURCE****** ******Gross Net******SpeedDine 12 449.71 442.55******Total 12 $449.71 $442.55***\n"
     ]
    },
    {
     "data": {
      "text/html": [
       "<div>\n",
       "<style scoped>\n",
       "    .dataframe tbody tr th:only-of-type {\n",
       "        vertical-align: middle;\n",
       "    }\n",
       "\n",
       "    .dataframe tbody tr th {\n",
       "        vertical-align: top;\n",
       "    }\n",
       "\n",
       "    .dataframe thead th {\n",
       "        text-align: right;\n",
       "    }\n",
       "</style>\n",
       "<table border=\"1\" class=\"dataframe\">\n",
       "  <thead>\n",
       "    <tr style=\"text-align: right;\">\n",
       "      <th></th>\n",
       "      <th>type_main</th>\n",
       "      <th>count</th>\n",
       "      <th>Gross</th>\n",
       "      <th>Net</th>\n",
       "    </tr>\n",
       "  </thead>\n",
       "  <tbody>\n",
       "    <tr>\n",
       "      <th>0</th>\n",
       "      <td>SpeedDine</td>\n",
       "      <td>12</td>\n",
       "      <td>449.71</td>\n",
       "      <td>442.55</td>\n",
       "    </tr>\n",
       "    <tr>\n",
       "      <th>1</th>\n",
       "      <td>Total</td>\n",
       "      <td>12</td>\n",
       "      <td>449.71</td>\n",
       "      <td>442.55</td>\n",
       "    </tr>\n",
       "  </tbody>\n",
       "</table>\n",
       "</div>"
      ],
      "text/plain": [
       "   type_main count   Gross     Net\n",
       "0  SpeedDine   12   449.71  442.55\n",
       "1      Total   12   449.71  442.55"
      ]
     },
     "execution_count": 32,
     "metadata": {},
     "output_type": "execute_result"
    }
   ],
   "source": [
    "names = sales_by_remote_source()\n",
    "names"
   ]
  },
  {
   "cell_type": "markdown",
   "metadata": {},
   "source": [
    "# page 9"
   ]
  },
  {
   "cell_type": "code",
   "execution_count": 21,
   "metadata": {},
   "outputs": [],
   "source": [
    "def order_charge_summary():\n",
    "    order_charges = re.findall(r\"ORDER CHARGE.+\",full_text[8].replace('\\n','***'))[0].split('ORDER CREDIT')[0]\n",
    "    order_charges_1 = order_charges.split('***')\n",
    "    order_charges_1 = [i.replace(',','') for i in order_charges_1]\n",
    "    # colnames = sales_summ_1[1].split(' ')\n",
    "    orders = pd.DataFrame()\n",
    "    for i in range(len(order_charges_1)):\n",
    "        try:\n",
    "            Category = re.findall('.+?\\d',order_charges_1[i])[0][:-2]\n",
    "            try:\n",
    "                Quantity = re.findall('\\d+\\s',order_charges_1[i])[0]\n",
    "            except:\n",
    "                Quantity =  'NULL'\n",
    "            Price = re.findall('\\d+[.]\\d+',order_charges_1[i])[0]\n",
    "            # print(ename,gross,net)\n",
    "            orders = orders.append(pd.Series([Category,Quantity,Price]).T, ignore_index=True)\n",
    "        except:\n",
    "            pass\n",
    "    orders.columns = ['Category','Quantity','Price']\n",
    "    return orders"
   ]
  },
  {
   "cell_type": "code",
   "execution_count": 33,
   "metadata": {},
   "outputs": [
    {
     "data": {
      "text/html": [
       "<div>\n",
       "<style scoped>\n",
       "    .dataframe tbody tr th:only-of-type {\n",
       "        vertical-align: middle;\n",
       "    }\n",
       "\n",
       "    .dataframe tbody tr th {\n",
       "        vertical-align: top;\n",
       "    }\n",
       "\n",
       "    .dataframe thead th {\n",
       "        text-align: right;\n",
       "    }\n",
       "</style>\n",
       "<table border=\"1\" class=\"dataframe\">\n",
       "  <thead>\n",
       "    <tr style=\"text-align: right;\">\n",
       "      <th></th>\n",
       "      <th>Category</th>\n",
       "      <th>Quantity</th>\n",
       "      <th>Price</th>\n",
       "    </tr>\n",
       "  </thead>\n",
       "  <tbody>\n",
       "    <tr>\n",
       "      <th>0</th>\n",
       "      <td>Delivery Charge</td>\n",
       "      <td>17</td>\n",
       "      <td>55.00</td>\n",
       "    </tr>\n",
       "    <tr>\n",
       "      <th>1</th>\n",
       "      <td>Gratuity</td>\n",
       "      <td>0</td>\n",
       "      <td>0.00</td>\n",
       "    </tr>\n",
       "    <tr>\n",
       "      <th>2</th>\n",
       "      <td>Misc</td>\n",
       "      <td>0</td>\n",
       "      <td>0.00</td>\n",
       "    </tr>\n",
       "    <tr>\n",
       "      <th>3</th>\n",
       "      <td>Tender Surcharge</td>\n",
       "      <td>0</td>\n",
       "      <td>0.00</td>\n",
       "    </tr>\n",
       "    <tr>\n",
       "      <th>4</th>\n",
       "      <td>Order Surcharge</td>\n",
       "      <td>0</td>\n",
       "      <td>0.00</td>\n",
       "    </tr>\n",
       "    <tr>\n",
       "      <th>5</th>\n",
       "      <td>Min Charge</td>\n",
       "      <td>0</td>\n",
       "      <td>0.00</td>\n",
       "    </tr>\n",
       "    <tr>\n",
       "      <th>6</th>\n",
       "      <td></td>\n",
       "      <td>17</td>\n",
       "      <td>55.00</td>\n",
       "    </tr>\n",
       "  </tbody>\n",
       "</table>\n",
       "</div>"
      ],
      "text/plain": [
       "           Category Quantity  Price\n",
       "0   Delivery Charge      17   55.00\n",
       "1          Gratuity       0    0.00\n",
       "2              Misc       0    0.00\n",
       "3  Tender Surcharge       0    0.00\n",
       "4   Order Surcharge       0    0.00\n",
       "5        Min Charge       0    0.00\n",
       "6                        17   55.00"
      ]
     },
     "execution_count": 33,
     "metadata": {},
     "output_type": "execute_result"
    }
   ],
   "source": [
    "orders = order_charge_summary()\n",
    "orders"
   ]
  },
  {
   "cell_type": "markdown",
   "metadata": {},
   "source": [
    "# page 9"
   ]
  },
  {
   "cell_type": "code",
   "execution_count": 23,
   "metadata": {},
   "outputs": [],
   "source": [
    "def order_credit_summary():\n",
    "    order_credit = re.findall(r\"ORDER CREDIT.+\",full_text[8].replace('\\n','***'))[0].split('PAY-IN')[0]\n",
    "    order_credit_1 = order_credit.split('***')\n",
    "    order_credit_1 = [i.replace(',','') for i in order_credit_1]\n",
    "    # colnames = sales_summ_1[1].split(' ')\n",
    "    credits = pd.DataFrame()\n",
    "    for i in range(len(order_credit_1)):\n",
    "        try:\n",
    "            Category = re.findall('.+?\\d',order_credit_1[i])[0][:-2]\n",
    "            Quantity = re.findall('\\d+\\s',order_credit_1[i])[0]\n",
    "            Price = re.findall('\\d+[.]\\d+',order_credit_1[i])[0]\n",
    "            # print(ename,gross,net)\n",
    "            credits = credits.append(pd.Series([Category,Quantity,Price]).T, ignore_index=True)\n",
    "        except:\n",
    "            pass\n",
    "    credits.columns = ['Category','Quantity','Price']\n",
    "    return credits"
   ]
  },
  {
   "cell_type": "code",
   "execution_count": 47,
   "metadata": {},
   "outputs": [
    {
     "data": {
      "text/html": [
       "<div>\n",
       "<style scoped>\n",
       "    .dataframe tbody tr th:only-of-type {\n",
       "        vertical-align: middle;\n",
       "    }\n",
       "\n",
       "    .dataframe tbody tr th {\n",
       "        vertical-align: top;\n",
       "    }\n",
       "\n",
       "    .dataframe thead th {\n",
       "        text-align: right;\n",
       "    }\n",
       "</style>\n",
       "<table border=\"1\" class=\"dataframe\">\n",
       "  <thead>\n",
       "    <tr style=\"text-align: right;\">\n",
       "      <th></th>\n",
       "      <th>Category</th>\n",
       "      <th>Quantity</th>\n",
       "      <th>Price</th>\n",
       "    </tr>\n",
       "  </thead>\n",
       "  <tbody>\n",
       "    <tr>\n",
       "      <th>0</th>\n",
       "      <td>Coupon</td>\n",
       "      <td>7</td>\n",
       "      <td>25.07</td>\n",
       "    </tr>\n",
       "    <tr>\n",
       "      <th>1</th>\n",
       "      <td>Discount</td>\n",
       "      <td>1</td>\n",
       "      <td>1.20</td>\n",
       "    </tr>\n",
       "    <tr>\n",
       "      <th>2</th>\n",
       "      <td>Comp</td>\n",
       "      <td>0</td>\n",
       "      <td>0.00</td>\n",
       "    </tr>\n",
       "    <tr>\n",
       "      <th>3</th>\n",
       "      <td>Customer Credit</td>\n",
       "      <td>1</td>\n",
       "      <td>7.99</td>\n",
       "    </tr>\n",
       "    <tr>\n",
       "      <th>4</th>\n",
       "      <td>Order Discount</td>\n",
       "      <td>0</td>\n",
       "      <td>0.00</td>\n",
       "    </tr>\n",
       "    <tr>\n",
       "      <th>5</th>\n",
       "      <td>9</td>\n",
       "      <td>9</td>\n",
       "      <td>34.26</td>\n",
       "    </tr>\n",
       "  </tbody>\n",
       "</table>\n",
       "</div>"
      ],
      "text/plain": [
       "          Category Quantity  Price\n",
       "0           Coupon       7   25.07\n",
       "1         Discount       1    1.20\n",
       "2             Comp       0    0.00\n",
       "3  Customer Credit       1    7.99\n",
       "4   Order Discount       0    0.00\n",
       "5               9        9   34.26"
      ]
     },
     "execution_count": 47,
     "metadata": {},
     "output_type": "execute_result"
    }
   ],
   "source": [
    "credit = order_credit_summary()\n",
    "credit"
   ]
  }
 ],
 "metadata": {
  "interpreter": {
   "hash": "5765aaf01a36591d58a8bf41b87aa08d390dfcc510c1511edc8ff7fe2c54f131"
  },
  "kernelspec": {
   "display_name": "myenv",
   "language": "python",
   "name": "python3"
  },
  "language_info": {
   "codemirror_mode": {
    "name": "ipython",
    "version": 3
   },
   "file_extension": ".py",
   "mimetype": "text/x-python",
   "name": "python",
   "nbconvert_exporter": "python",
   "pygments_lexer": "ipython3",
   "version": "3.9.7"
  }
 },
 "nbformat": 4,
 "nbformat_minor": 2
}
